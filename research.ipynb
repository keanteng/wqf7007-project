{
 "cells": [
  {
   "cell_type": "markdown",
   "id": "a1929aef",
   "metadata": {},
   "source": [
    "# Tweet Sentiment Analysis with BERT\n",
    "\n",
    "Performing sentimetn analysis using BERT (fine-tuning)"
   ]
  },
  {
   "cell_type": "code",
   "execution_count": null,
   "id": "4e9cc52b",
   "metadata": {},
   "outputs": [],
   "source": [
    "import pandas as pd"
   ]
  },
  {
   "cell_type": "code",
   "execution_count": null,
   "id": "29747035",
   "metadata": {},
   "outputs": [],
   "source": [
    "# read the data\n",
    "data = pd.read_csv('data/data.csv')\n",
    "\n",
    "# preview the ddata\n",
    "data.head()"
   ]
  }
 ],
 "metadata": {
  "kernelspec": {
   "display_name": "Python 3",
   "language": "python",
   "name": "python3"
  },
  "language_info": {
   "name": "python",
   "version": "3.12.7"
  }
 },
 "nbformat": 4,
 "nbformat_minor": 5
}
