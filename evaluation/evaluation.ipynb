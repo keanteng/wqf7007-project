{
 "cells": [
  {
   "cell_type": "markdown",
   "id": "3d3d504d",
   "metadata": {},
   "source": [
    "# Model Evaluation"
   ]
  },
  {
   "cell_type": "markdown",
   "id": "01272913",
   "metadata": {},
   "source": [
    "## 1. BERT Base Raw Data\n",
    "\n",
    "### 1.1 Classification Report\n",
    "\n",
    "```txt\n",
    "======================================================================\n",
    "EVALUATION REPORTS FOR ALL SENTIMENT ANALYSIS MODELS\n",
    "======================================================================\n",
    "\n",
    "climate_data_raw Model Evaluation:\n",
    "----------------------------------------\n",
    "              precision    recall  f1-score   support\n",
    "\n",
    "        news       0.63      0.62      0.62      1543\n",
    "         pro       0.87      0.81      0.84      4593\n",
    "     neutral       0.78      0.90      0.84      1855\n",
    "        anti       0.69      0.75      0.72       798\n",
    "\n",
    "    accuracy                           0.79      8789\n",
    "   macro avg       0.74      0.77      0.75      8789\n",
    "weighted avg       0.79      0.79      0.79      8789\n",
    "```"
   ]
  },
  {
   "cell_type": "markdown",
   "id": "673a6e9c",
   "metadata": {},
   "source": [
    "### 1.2 Training Performance\n",
    "\n",
    "![](../images/loss_curves_with_best_epoch_raw.png)"
   ]
  }
 ],
 "metadata": {
  "language_info": {
   "name": "python"
  }
 },
 "nbformat": 4,
 "nbformat_minor": 5
}
